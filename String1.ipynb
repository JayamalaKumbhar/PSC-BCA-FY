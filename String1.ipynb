{
 "cells": [
  {
   "cell_type": "code",
   "execution_count": 1,
   "id": "38818a94-1dab-436b-999a-23beac69c32f",
   "metadata": {},
   "outputs": [],
   "source": [
    "name = \"Jayamala kumbhar\""
   ]
  },
  {
   "cell_type": "code",
   "execution_count": 2,
   "id": "101554d4-814e-40b7-bb30-3fd62029dce9",
   "metadata": {},
   "outputs": [
    {
     "data": {
      "text/plain": [
       "'Jayamala kumbhar'"
      ]
     },
     "execution_count": 2,
     "metadata": {},
     "output_type": "execute_result"
    }
   ],
   "source": [
    "name"
   ]
  },
  {
   "cell_type": "code",
   "execution_count": 3,
   "id": "28b27971-bb71-422c-83bb-eaba2636e2d7",
   "metadata": {},
   "outputs": [
    {
     "data": {
      "text/plain": [
       "'JAYAMALA KUMBHAR'"
      ]
     },
     "execution_count": 3,
     "metadata": {},
     "output_type": "execute_result"
    }
   ],
   "source": [
    "name.upper()"
   ]
  },
  {
   "cell_type": "code",
   "execution_count": 4,
   "id": "35aecc4b-3d1d-40dd-8f8c-82153100a09b",
   "metadata": {},
   "outputs": [
    {
     "data": {
      "text/plain": [
       "'Jayamala kumbhar'"
      ]
     },
     "execution_count": 4,
     "metadata": {},
     "output_type": "execute_result"
    }
   ],
   "source": [
    "name"
   ]
  },
  {
   "cell_type": "code",
   "execution_count": 5,
   "id": "da0535dd-fc6a-41f8-8d9b-c333cb9ce9dd",
   "metadata": {},
   "outputs": [],
   "source": [
    "name = name.upper()"
   ]
  },
  {
   "cell_type": "code",
   "execution_count": 6,
   "id": "dc9525bf-00de-490c-a461-42bff5e78cb0",
   "metadata": {},
   "outputs": [
    {
     "data": {
      "text/plain": [
       "'JAYAMALA KUMBHAR'"
      ]
     },
     "execution_count": 6,
     "metadata": {},
     "output_type": "execute_result"
    }
   ],
   "source": [
    "name"
   ]
  },
  {
   "cell_type": "code",
   "execution_count": 7,
   "id": "3c0fbc8b-3a89-49e7-aaea-66e3db6fb167",
   "metadata": {},
   "outputs": [
    {
     "data": {
      "text/plain": [
       "'jayamala kumbhar'"
      ]
     },
     "execution_count": 7,
     "metadata": {},
     "output_type": "execute_result"
    }
   ],
   "source": [
    "name.lower()"
   ]
  },
  {
   "cell_type": "code",
   "execution_count": 8,
   "id": "be7f6c2e-5e7a-43b5-bf31-74aa72599e12",
   "metadata": {},
   "outputs": [
    {
     "data": {
      "text/plain": [
       "'JAYAMALA KUMBHAR'"
      ]
     },
     "execution_count": 8,
     "metadata": {},
     "output_type": "execute_result"
    }
   ],
   "source": [
    "name"
   ]
  },
  {
   "cell_type": "code",
   "execution_count": 9,
   "id": "493d19ea-01f5-41c7-90d3-ad9089c0f5e4",
   "metadata": {},
   "outputs": [],
   "source": [
    "name = name.lower()"
   ]
  },
  {
   "cell_type": "code",
   "execution_count": 10,
   "id": "839df1cc-1fd0-461c-b1ee-b0e5de6b09e6",
   "metadata": {},
   "outputs": [
    {
     "data": {
      "text/plain": [
       "'jayamala kumbhar'"
      ]
     },
     "execution_count": 10,
     "metadata": {},
     "output_type": "execute_result"
    }
   ],
   "source": [
    "name"
   ]
  },
  {
   "cell_type": "code",
   "execution_count": 11,
   "id": "218282ab-2114-411e-8426-7568555bd70c",
   "metadata": {},
   "outputs": [],
   "source": [
    "name1= \"PRadNya kuMbHar\""
   ]
  },
  {
   "cell_type": "code",
   "execution_count": 12,
   "id": "2fbba85e-ac49-4e22-bc9a-3a2a6ae9b8a3",
   "metadata": {},
   "outputs": [
    {
     "data": {
      "text/plain": [
       "'PRadNya kuMbHar'"
      ]
     },
     "execution_count": 12,
     "metadata": {},
     "output_type": "execute_result"
    }
   ],
   "source": [
    "name1"
   ]
  },
  {
   "cell_type": "code",
   "execution_count": 13,
   "id": "d4d25204-b82e-42b0-b4d0-c61ce921e543",
   "metadata": {},
   "outputs": [
    {
     "data": {
      "text/plain": [
       "'prADnYA KUmBhAR'"
      ]
     },
     "execution_count": 13,
     "metadata": {},
     "output_type": "execute_result"
    }
   ],
   "source": [
    "name1.swapcase()"
   ]
  },
  {
   "cell_type": "code",
   "execution_count": 14,
   "id": "81776875-5be7-4f3a-b935-f2a2937d1acd",
   "metadata": {},
   "outputs": [],
   "source": [
    "name2 = \"     Vijayalaxmi     Gurav     \""
   ]
  },
  {
   "cell_type": "code",
   "execution_count": 15,
   "id": "4a29d5e9-e671-4268-9ccd-6536e7d59c8a",
   "metadata": {},
   "outputs": [
    {
     "data": {
      "text/plain": [
       "'     Vijayalaxmi     Gurav     '"
      ]
     },
     "execution_count": 15,
     "metadata": {},
     "output_type": "execute_result"
    }
   ],
   "source": [
    "name2"
   ]
  },
  {
   "cell_type": "code",
   "execution_count": 19,
   "id": "04af7b07-6237-45c2-b7f0-d09b2ebf7578",
   "metadata": {},
   "outputs": [
    {
     "data": {
      "text/plain": [
       "'Vijayalaxmi     Gurav'"
      ]
     },
     "execution_count": 19,
     "metadata": {},
     "output_type": "execute_result"
    }
   ],
   "source": [
    "name2.strip()"
   ]
  },
  {
   "cell_type": "code",
   "execution_count": 20,
   "id": "d138297e-bac2-43ed-81a0-cd59acc7a099",
   "metadata": {},
   "outputs": [
    {
     "data": {
      "text/plain": [
       "'     Vijayalaxmi     Gurav     '"
      ]
     },
     "execution_count": 20,
     "metadata": {},
     "output_type": "execute_result"
    }
   ],
   "source": [
    "name2"
   ]
  },
  {
   "cell_type": "code",
   "execution_count": 23,
   "id": "4c2082b7-e32d-44d8-8fca-3d81e11df6fa",
   "metadata": {},
   "outputs": [
    {
     "data": {
      "text/plain": [
       "'  Jayamala Kumbhar  '"
      ]
     },
     "execution_count": 23,
     "metadata": {},
     "output_type": "execute_result"
    }
   ],
   "source": [
    "name3 =  \"  Jayamala Kumbhar  \"\n",
    "name3"
   ]
  },
  {
   "cell_type": "code",
   "execution_count": 25,
   "id": "dcb12080-a7cc-444d-8f8b-f9de8f1b842a",
   "metadata": {},
   "outputs": [
    {
     "data": {
      "text/plain": [
       "'***************  Jayamala Kumbhar  ***************'"
      ]
     },
     "execution_count": 25,
     "metadata": {},
     "output_type": "execute_result"
    }
   ],
   "source": [
    "name3.center(50, '*')"
   ]
  },
  {
   "cell_type": "code",
   "execution_count": 26,
   "id": "c01ca66d-1e1c-44f6-a9cf-82eef7dce4b7",
   "metadata": {},
   "outputs": [
    {
     "data": {
      "text/plain": [
       "'  Jayamala Kumbhar  '"
      ]
     },
     "execution_count": 26,
     "metadata": {},
     "output_type": "execute_result"
    }
   ],
   "source": [
    "name3"
   ]
  },
  {
   "cell_type": "code",
   "execution_count": 27,
   "id": "0d2d0232-69fd-4034-8e93-7cb051c30171",
   "metadata": {},
   "outputs": [],
   "source": [
    "name4 = \"Shreya Nagme\""
   ]
  },
  {
   "cell_type": "code",
   "execution_count": 28,
   "id": "b49c5fed-28f7-4cf2-8144-c3a3cc83d683",
   "metadata": {},
   "outputs": [
    {
     "data": {
      "text/plain": [
       "False"
      ]
     },
     "execution_count": 28,
     "metadata": {},
     "output_type": "execute_result"
    }
   ],
   "source": [
    "name4.islower()"
   ]
  },
  {
   "cell_type": "code",
   "execution_count": 29,
   "id": "46c64e73-1b67-4516-b4a9-0321e0332ec3",
   "metadata": {},
   "outputs": [],
   "source": [
    "name5 = \"shreya\""
   ]
  },
  {
   "cell_type": "code",
   "execution_count": 30,
   "id": "38f0713a-79dc-4c00-8427-e6589b021801",
   "metadata": {},
   "outputs": [
    {
     "data": {
      "text/plain": [
       "True"
      ]
     },
     "execution_count": 30,
     "metadata": {},
     "output_type": "execute_result"
    }
   ],
   "source": [
    "name5.islower()"
   ]
  },
  {
   "cell_type": "code",
   "execution_count": 31,
   "id": "eecc45c8-7fc4-45c4-84b2-a4849012cde4",
   "metadata": {},
   "outputs": [
    {
     "data": {
      "text/plain": [
       "'Shreya Nagme'"
      ]
     },
     "execution_count": 31,
     "metadata": {},
     "output_type": "execute_result"
    }
   ],
   "source": [
    "name4"
   ]
  },
  {
   "cell_type": "code",
   "execution_count": 32,
   "id": "47e7be84-a1f3-4a8a-a317-e5be4c7e955e",
   "metadata": {},
   "outputs": [
    {
     "data": {
      "text/plain": [
       "False"
      ]
     },
     "execution_count": 32,
     "metadata": {},
     "output_type": "execute_result"
    }
   ],
   "source": [
    "name4.isupper()"
   ]
  },
  {
   "cell_type": "code",
   "execution_count": 33,
   "id": "05d716a8-a183-41d6-9bf4-09ef4051883f",
   "metadata": {},
   "outputs": [],
   "source": [
    "name5 = \"SHREYA\""
   ]
  },
  {
   "cell_type": "code",
   "execution_count": 34,
   "id": "df97accb-f74a-4467-b4df-1af81b4a0d02",
   "metadata": {},
   "outputs": [
    {
     "data": {
      "text/plain": [
       "True"
      ]
     },
     "execution_count": 34,
     "metadata": {},
     "output_type": "execute_result"
    }
   ],
   "source": [
    "name5.isupper()"
   ]
  },
  {
   "cell_type": "code",
   "execution_count": 36,
   "id": "73ccfb25-7aec-4439-93a3-8f2cd11a6870",
   "metadata": {},
   "outputs": [
    {
     "data": {
      "text/plain": [
       "False"
      ]
     },
     "execution_count": 36,
     "metadata": {},
     "output_type": "execute_result"
    }
   ],
   "source": [
    "name4.isspace()"
   ]
  },
  {
   "cell_type": "code",
   "execution_count": null,
   "id": "c5455da3-bb65-4132-a475-4f2381994abb",
   "metadata": {},
   "outputs": [],
   "source": []
  }
 ],
 "metadata": {
  "kernelspec": {
   "display_name": "Python 3 (ipykernel)",
   "language": "python",
   "name": "python3"
  },
  "language_info": {
   "codemirror_mode": {
    "name": "ipython",
    "version": 3
   },
   "file_extension": ".py",
   "mimetype": "text/x-python",
   "name": "python",
   "nbconvert_exporter": "python",
   "pygments_lexer": "ipython3",
   "version": "3.12.4"
  }
 },
 "nbformat": 4,
 "nbformat_minor": 5
}
